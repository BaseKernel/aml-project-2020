{
 "cells": [
  {
   "cell_type": "code",
   "execution_count": 28,
   "metadata": {},
   "outputs": [],
   "source": [
    "import numpy as np\n",
    "import matplotlib.pyplot as plt\n",
    "import torch\n",
    "import torch.nn as nn\n",
    "import torch.nn.functional as F\n",
    "from torch.autograd import Variable as V\n",
    "import pandas as pd\n",
    "import random\n",
    "\n",
    "class SineTask:\n",
    "    def __init__(self):\n",
    "        self.amplitude = np.random.uniform(0.1, 5.0)\n",
    "        self.phase = np.random.uniform(0, 2*np.pi)\n",
    "        self.hold_x = None\n",
    "        \n",
    "    def sin(self, x):\n",
    "        return self.amplitude * np.sin(x + self.phase)\n",
    "    \n",
    "    def training_data(self, n=10, fresh = False):\n",
    "        if self.hold_x is None:\n",
    "            self.hold_x = np.random.uniform(-5, 5, size=(n,1))\n",
    "            x = self.hold_x\n",
    "        else:\n",
    "            if fresh:\n",
    "                x = np.random.uniform(-5, 5, size=(n,1))\n",
    "            else:\n",
    "                x = self.hold_x\n",
    "        y = self.sin(x)\n",
    "        return torch.Tensor(x), torch.Tensor(y)\n",
    "            \n",
    "        \n",
    "    def test_data(self, n=50):\n",
    "        x = np.linspace(-5, 5, num=n).reshape(n,1)\n",
    "        y = self.sin(x)\n",
    "        return torch.Tensor(x), torch.Tensor(y)\n",
    "\n",
    "    \n",
    "class SineModel(torch.nn.Module):\n",
    "    def __init__(self):\n",
    "        super().__init__()\n",
    "        self.layer1 = torch.nn.Linear(1, 40)\n",
    "        self.layer2 = torch.nn.Linear(40, 40)\n",
    "        self.layer3 = torch.nn.Linear(40, 1)\n",
    "    \n",
    "    def forward(self, x, parameters=None):\n",
    "        x = F.linear(x, parameters['layer1.weight'], parameters['layer1.bias'])\n",
    "        x = F.relu(x)\n",
    "        x = F.linear(x, parameters['layer2.weight'], parameters['layer2.bias'])\n",
    "        x = F.relu(x)\n",
    "        x = F.linear(x, parameters['layer3.weight'], parameters['layer3.bias'])\n",
    "        return x\n",
    "    \n",
    "    def copy(self, model):\n",
    "        self.load_state_dict(model.state_dict())\n",
    "        \n"
   ]
  },
  {
   "cell_type": "code",
   "execution_count": 58,
   "metadata": {},
   "outputs": [],
   "source": [
    "    def forward(self, x, parameters=None):\n",
    "        #probably this if.\n",
    "        if parameters is None:\n",
    "            x = self.layer1(x)\n",
    "            x = F.relu(x)\n",
    "            x = self.layer2(x)\n",
    "            x = F.relu(x)\n",
    "            x = self.layer3(x)\n",
    "            return x\n",
    "        else:\n",
    "            x = F.linear(x, parameters['layer1.weight'], parameters['layer1.bias'])\n",
    "            x = F.relu(x)\n",
    "            x = F.linear(x, parameters['layer2.weight'], parameters['layer2.bias'])\n",
    "            x = F.relu(x)\n",
    "            x = F.linear(x, parameters['layer3.weight'], parameters['layer3.bias'])\n",
    "            return x"
   ]
  },
  {
   "cell_type": "code",
   "execution_count": 65,
   "metadata": {},
   "outputs": [],
   "source": [
    "#hold_parameters = None \n",
    "torch.autograd.set_detect_anomaly(True)\n",
    "# be carefull of not ImplementError setting in example code. probably a reason.\n",
    "\n",
    "model = SineModel()\n",
    "global_parameters = { name: par for name, par in model.named_parameters()}\n",
    "hold_parameters = global_parameters\n",
    "optimizer = torch.optim.Adam(model.parameters())\n",
    "optimizer.zero_grad()\n",
    "metric = torch.nn.MSELoss()\n",
    "history = []\n",
    "tasks = [SineTask() for m in range(50)]\n",
    "gradient_steps = 1\n",
    "lr_inner = 0.01\n",
    "\n",
    "for task in tasks:\n",
    "    task_model = SineModel()\n",
    "    task_model.copy(model)\n",
    "    hold_parameters = global_parameters\n",
    "\n",
    "    for step in range(gradient_steps):\n",
    "        x, y = task.training_data()\n",
    "        y_hat = task_model.forward(x, hold_parameters)\n",
    "        loss = metric(y_hat, y)\n",
    "        grads = torch.autograd.grad(loss, hold_parameters.values(), create_graph = True )\n",
    "\n",
    "        # note that now you only use manual parameters, graph parameters not updated\n",
    "        hold_parameters = {name:(parameter - lr_inner * grad) for ((name, parameter), grad) in zip(hold_parameters.items(), grads)}\n",
    "\n",
    "    # task update\n",
    "    x, y = task.training_data(fresh=True)\n",
    "    y_hat = model.forward(x, hold_parameters)\n",
    "    meta_loss = metric(y_hat, y)\n",
    "    meta_loss.backward(retain_graph=True)\n",
    "    optimizer.step()\n",
    "    optimizer.zero_grad()\n",
    "    history.append(loss.item())\n",
    "\n",
    "    \n",
    "    \n",
    "\n"
   ]
  },
  {
   "cell_type": "code",
   "execution_count": 66,
   "metadata": {},
   "outputs": [
    {
     "data": {
      "text/plain": [
       "[<matplotlib.lines.Line2D at 0x7f2a69b56d68>]"
      ]
     },
     "execution_count": 66,
     "metadata": {},
     "output_type": "execute_result"
    },
    {
     "data": {
      "image/png": "[encoded data removed]",
      "text/plain": [
       "<Figure size 432x288 with 1 Axes>"
      ]
     },
     "metadata": {
      "needs_background": "light"
     },
     "output_type": "display_data"
    }
   ],
   "source": [
    "plt.plot(history)"
   ]
  },
  {
   "cell_type": "code",
   "execution_count": null,
   "metadata": {},
   "outputs": [],
   "source": []
  }
 ],
 "metadata": {
  "kernelspec": {
   "display_name": "Python 3",
   "language": "python",
   "name": "python3"
  },
  "language_info": {
   "codemirror_mode": {
    "name": "ipython",
    "version": 3
   },
   "file_extension": ".py",
   "mimetype": "text/x-python",
   "name": "python",
   "nbconvert_exporter": "python",
   "pygments_lexer": "ipython3",
   "version": "3.6.9"
  }
 },
 "nbformat": 4,
 "nbformat_minor": 4
}
