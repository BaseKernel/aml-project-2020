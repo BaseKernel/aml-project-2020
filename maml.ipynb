{
 "cells": [
  {
   "cell_type": "code",
   "execution_count": 127,
   "metadata": {},
   "outputs": [],
   "source": [
    "import numpy as np\n",
    "import matplotlib.pyplot as plt\n",
    "import torch\n",
    "import torch.nn as nn\n",
    "import torch.nn.functional as F\n",
    "from torch.autograd import Variable as V\n",
    "import pandas as pd\n",
    "import random\n",
    "\n",
    "\n",
    "class SineTask:\n",
    "    def __init__(self):\n",
    "        self.amplitude = np.random.uniform(0.1, 5.0)\n",
    "        self.phase = np.random.uniform(0, 2*np.pi)\n",
    "        self.hold_x = None\n",
    "        \n",
    "    def sin(self, x):\n",
    "        return self.amplitude * np.sin(x + self.phase)\n",
    "    \n",
    "    def training_data(self, n=10, fresh = False):\n",
    "        if self.hold_x is None:\n",
    "            self.hold_x = np.random.uniform(-5, 5, size=(n,1))\n",
    "            x = self.hold_x\n",
    "        else:\n",
    "            if fresh:\n",
    "                x = np.random.uniform(-5, 5, size=(n,1))\n",
    "            else:\n",
    "                x = self.hold_x\n",
    "        y = self.sin(x)\n",
    "        return torch.Tensor(x), torch.Tensor(y)\n",
    "            \n",
    "        \n",
    "    def test_data(self, n=50):\n",
    "        x = np.linspace(-5, 5, num=n).reshape(n,1)\n",
    "        y = self.sin(x)\n",
    "        return torch.Tensor(x), torch.Tensor(y)\n",
    "    \n",
    "\n",
    "class SineModel(torch.nn.Module):\n",
    "    def __init__(self):\n",
    "        super().__init__()\n",
    "        self.layer1 = torch.nn.Linear(1, 40)\n",
    "        self.layer2 = torch.nn.Linear(40, 40)\n",
    "        self.layer3 = torch.nn.Linear(40, 1)\n",
    "        self.parameter_dict = {name: par for name, par in self.named_parameters()}\n",
    "    \n",
    "    def forward(self, x, parameters=None):\n",
    "        if parameters is None:\n",
    "            x = self.layer1(x)\n",
    "            x = F.relu(x)\n",
    "            x = self.layer2(x)\n",
    "            x = F.relu(x)\n",
    "            x = self.layer3(x)\n",
    "            return x\n",
    "        else:\n",
    "            x = F.linear(x, parameters['layer1.weight'], parameters['layer1.bias'])\n",
    "            x = F.relu(x)\n",
    "            x = F.linear(x, parameters['layer2.weight'], parameters['layer2.bias'])\n",
    "            x = F.relu(x)\n",
    "            x = F.linear(x, parameters['layer3.weight'], parameters['layer3.bias'])\n",
    "            return x\n",
    "    \n",
    "    def get_parameter_dict(self):\n",
    "        self.update_parameter_dict()\n",
    "        return self.parameter_dict\n",
    "    \n",
    "    def update_parameter_dict(self):\n",
    "        self.parameter_dict = {name: par for name, par in self.named_parameters()}\n",
    "\n",
    "    def copy(self, model):\n",
    "        self.load_state_dict(model.state_dict())\n",
    "        \n",
    "        \n",
    "class MAML:\n",
    "    def __init__(self):\n",
    "        self.meta_model = SineModel()\n",
    "        self.meta_parameters = self.meta_model.get_parameter_dict()\n",
    "        self.metric = torch.nn.MSELoss()\n",
    "        \n",
    "    def get_parameters(self):\n",
    "        self.update_meta_parameters()\n",
    "        return self.meta_parameters\n",
    "    \n",
    "    def update_meta_parameters(self):\n",
    "        self.meta_parameters = self.meta_model.get_parameter_dict()\n",
    "            \n",
    "    def train(self, epochs=100, num_tasks=25, num_grad_steps=1, meta_lr=1e-3, step_lr=0.01):\n",
    "        self.epochs = epochs\n",
    "        self.num_tasks = num_tasks\n",
    "        self.meta_lr = meta_lr\n",
    "        self.step_lr = step_lr\n",
    "        self.optimizer = torch.optim.Adam(self.meta_model.parameters(), lr=self.meta_lr)\n",
    "        \n",
    "        history = []\n",
    "        self.optimizer.zero_grad()\n",
    "        \n",
    "        for epoch in range(epochs):\n",
    "            \n",
    "            task_batch_losses = []\n",
    "            tasks = [SineTask() for m in range(self.num_tasks)]\n",
    "            for task in tasks:\n",
    "                \n",
    "                task_model = SineModel()\n",
    "                task_model.copy(self.meta_model)\n",
    "                #hold_parameters = self.meta_parameters\n",
    "                hold_parameters = self.meta_model.get_parameter_dict()\n",
    "                for step in range(num_grad_steps):\n",
    "                    \n",
    "                    x, y = task.training_data()\n",
    "                    y_hat = task_model.forward(x, hold_parameters)\n",
    "                    loss = self.metric(y_hat, y)\n",
    "                    grads = torch.autograd.grad(loss, hold_parameters.values(), create_graph=True)\n",
    "                    # update\n",
    "                    hold_parameters = {name:(parameter - self.step_lr * grad) for ((name, parameter), grad) in zip(hold_parameters.items(), grads)}\n",
    "        \n",
    "                x, y = task.training_data(fresh=True)\n",
    "                y_hat = self.meta_model.forward(x, hold_parameters)\n",
    "                meta_loss = self.metric(y_hat, y)\n",
    "                meta_loss.backward(retain_graph=True)\n",
    "                self.optimizer.step()\n",
    "                self.optimizer.zero_grad()\n",
    "                task_batch_losses.append(meta_loss.item())\n",
    "                self.meta_model.update_parameter_dict()\n",
    "                #self.update_meta_parameters()\n",
    "                \n",
    "            history.append(np.mean(task_batch_losses))\n",
    "        \n",
    "        return history\n",
    "    \n",
    "    def fine_tune(self, task, num_examples=5, gradient_steps=10):\n",
    "        self.tuned_model = SineModel()\n",
    "        self.tuned_model.copy(self.meta_model)\n",
    "        hist = []\n",
    "        for step in range(gradient_steps):\n",
    "            x, y = task.training_data()\n",
    "            y_hat = self.tuned_model.forward(x)\n",
    "            loss = self.metric(y_hat, y)\n",
    "            grads = torch.autograd.grad(loss, self.tuned_model.parameters())\n",
    "            with torch.no_grad():\n",
    "                for parameter, grad in zip(self.tuned_model.parameters(), grads):\n",
    "                    parameter -= self.step_lr * grad\n",
    "            hist.append(loss.item())\n",
    "        return hist\n",
    "                \n",
    "            \n",
    "    "
   ]
  },
  {
   "cell_type": "code",
   "execution_count": 128,
   "metadata": {},
   "outputs": [
    {
     "name": "stdout",
     "output_type": "stream",
     "text": [
      "16.359391689300537\n"
     ]
    }
   ],
   "source": [
    "import time\n",
    "\n",
    "epochs=500\n",
    "num_tasks=25\n",
    "num_grad_steps=1\n",
    "meta_lr=1e-3\n",
    "step_lr=0.01\n",
    "\n",
    "tst = MAML()\n",
    "\n",
    "start = time.time()\n",
    "hist =tst.train(epochs, num_tasks, num_grad_steps, meta_lr, step_lr)\n",
    "end = time.time()\n",
    "print(end - start)"
   ]
  },
  {
   "cell_type": "code",
   "execution_count": 135,
   "metadata": {},
   "outputs": [
    {
     "data": {
      "text/plain": [
       "[<matplotlib.lines.Line2D at 0x7fdcd8e5fe80>]"
      ]
     },
     "execution_count": 135,
     "metadata": {},
     "output_type": "execute_result"
    },
    {
     "data": {
      "image/png": "[encoded data removed]",
      "text/plain": [
       "<Figure size 432x288 with 1 Axes>"
      ]
     },
     "metadata": {
      "needs_background": "light"
     },
     "output_type": "display_data"
    }
   ],
   "source": [
    "tst2 = MAML()\n",
    "tst2.train(1, num_tasks, num_grad_steps, meta_lr, step_lr)\n",
    "\n",
    "task = SineTask()\n",
    "local = tst.fine_tune(task)\n",
    "lcl2 = tst2.fine_tune(task)\n",
    "plt.plot(local)\n",
    "plt.plot(lcl2)"
   ]
  },
  {
   "cell_type": "code",
   "execution_count": 99,
   "metadata": {},
   "outputs": [
    {
     "data": {
      "text/plain": [
       "[7.60398006439209,\n",
       " 5.666747093200684,\n",
       " 4.650950908660889,\n",
       " 4.059883117675781,\n",
       " 3.7725143432617188,\n",
       " 3.628594160079956,\n",
       " 3.5719122886657715,\n",
       " 3.6595406532287598,\n",
       " 4.142740249633789,\n",
       " 4.703085422515869]"
      ]
     },
     "execution_count": 99,
     "metadata": {},
     "output_type": "execute_result"
    }
   ],
   "source": [
    "local"
   ]
  },
  {
   "cell_type": "code",
   "execution_count": null,
   "metadata": {},
   "outputs": [],
   "source": []
  }
 ],
 "metadata": {
  "kernelspec": {
   "display_name": "Python 3",
   "language": "python",
   "name": "python3"
  },
  "language_info": {
   "codemirror_mode": {
    "name": "ipython",
    "version": 3
   },
   "file_extension": ".py",
   "mimetype": "text/x-python",
   "name": "python",
   "nbconvert_exporter": "python",
   "pygments_lexer": "ipython3",
   "version": "3.6.9"
  }
 },
 "nbformat": 4,
 "nbformat_minor": 4
}
