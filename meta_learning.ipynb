{
 "cells": [
  {
   "cell_type": "code",
   "execution_count": 1,
   "metadata": {},
   "outputs": [],
   "source": [
    "import numpy as np\n",
    "import matplotlib.pyplot as plt\n",
    "import torch\n",
    "import torch.nn as nn\n",
    "import torch.nn.functional as F\n",
    "from torch.autograd import Variable as V\n",
    "import pandas as pd\n",
    "import random\n"
   ]
  },
  {
   "cell_type": "code",
   "execution_count": 2,
   "metadata": {},
   "outputs": [],
   "source": [
    "def svcca(x, y, cutoff=0.99):\n",
    "    \n",
    "    u_x, s_x, v_x = torch.svd(x - x.mean(axis=0))\n",
    "    u_y, s_y, v_y = torch.svd(y - y.mean(axis=0))\n",
    "    \n",
    "    var_x = torch.cumsum(s_x**2/torch.sum(s_x**2), dim=0)\n",
    "    var_y = torch.cumsum(s_y**2/torch.sum(s_y**2), dim=0)\n",
    "    \n",
    "    u_1 = u_x[:,:torch.where(var_x > cutoff)[0][0]+1]\n",
    "    u_2 = u_y[:,:torch.where(var_y > cutoff)[0][0]+1]\n",
    "    \n",
    "    s_1 = s_x[:torch.where(var_x > cutoff)[0][0]+1]\n",
    "    s_2 = s_y[:torch.where(var_y > cutoff)[0][0]+1]\n",
    "    \n",
    "    v_1 = v_x[:,:torch.where(var_x > cutoff)[0][0]+1]\n",
    "    v_2 = v_y[:,:torch.where(var_y > cutoff)[0][0]+1]\n",
    "    \n",
    "    uu = u_1.t() @ u_2\n",
    "    u, diag, v = torch.svd(uu)\n",
    "    a = (v_1 * s_1.reciprocal_().unsqueeze_(0)) @ u\n",
    "    b = (v_2 * s_2.reciprocal_().unsqueeze_(0)) @ v\n",
    "    return a, b, diag"
   ]
  },
  {
   "cell_type": "code",
   "execution_count": 217,
   "metadata": {},
   "outputs": [],
   "source": [
    "class SineTask:\n",
    "    def __init__(self):\n",
    "        self.amplitude = np.random.uniform(0.1, 5.0)\n",
    "        self.phase = np.random.uniform(0, 2*np.pi)\n",
    "        self.hold_x = None\n",
    "        \n",
    "    def sin(self, x):\n",
    "        return self.amplitude * np.sin(x + self.phase)\n",
    "    \n",
    "    def training_data(self, n=10, fresh = False):\n",
    "        if self.hold_x is None:\n",
    "            self.hold_x = np.random.uniform(-5, 5, size=(n,1))\n",
    "            x = self.hold_x\n",
    "        else:\n",
    "            if fresh:\n",
    "                x = np.random.uniform(-5, 5, size=(n,1))\n",
    "            else:\n",
    "                x = self.hold_x\n",
    "        y = self.sin(x)\n",
    "        return torch.Tensor(x), torch.Tensor(y)\n",
    "            \n",
    "        \n",
    "    def test_data(self, n=50):\n",
    "        x = np.linspace(-5, 5, num=n).reshape(n,1)\n",
    "        y = self.sin(x)\n",
    "        return torch.Tensor(x), torch.Tensor(y)\n",
    "    \n",
    "    \n",
    "class SineModel(torch.nn.Module):\n",
    "    def __init__(self):\n",
    "        super().__init__()\n",
    "        self.layer1 = torch.nn.Linear(1, 40)\n",
    "        self.relu1 = torch.nn.ReLU()\n",
    "        self.layer2 = torch.nn.Linear(40, 40)\n",
    "        self.relu2 = torch.nn.ReLU()\n",
    "        self.layer3 = torch.nn.Linear(40, 1)\n",
    "        self.parameter_dict = {name: par for name, par in self.named_parameters()}\n",
    "        self.activations_relu1 = []\n",
    "        self.activations_relu2 = []\n",
    "        self.activations_layer3 = []\n",
    "        self.handles = []\n",
    "    \n",
    "    def forward(self, x, parameters=None):\n",
    "        if parameters is None:\n",
    "            x = self.layer1(x)\n",
    "            x = self.relu1(x)\n",
    "            x = self.layer2(x)\n",
    "            x = self.relu2(x)\n",
    "            x = self.layer3(x)\n",
    "            return x\n",
    "        else:\n",
    "            x = F.linear(x, parameters['layer1.weight'], parameters['layer1.bias'])\n",
    "            x = F.relu(x)\n",
    "            x = F.linear(x, parameters['layer2.weight'], parameters['layer2.bias'])\n",
    "            x = F.relu(x)\n",
    "            x = F.linear(x, parameters['layer3.weight'], parameters['layer3.bias'])\n",
    "            return x\n",
    "                \n",
    "    def get_parameter_dict(self):\n",
    "        self.update_parameter_dict()\n",
    "        return self.parameter_dict\n",
    "    \n",
    "    def get_activations(self, name):\n",
    "        return getattr(self, 'activations_'+name)\n",
    "    \n",
    "    def update_parameter_dict(self):\n",
    "        self.parameter_dict = {name: par for name, par in self.named_parameters()}\n",
    "\n",
    "    def copy(self, model):\n",
    "        self.load_state_dict(model.state_dict())\n",
    "        \n",
    "    def set_hooks(self):\n",
    "        \n",
    "        def hook_fn(name):\n",
    "            def hook(model, input, output):\n",
    "                getattr(self, 'activations_'+name).append(output.detach())\n",
    "            return hook\n",
    "            \n",
    "        for name, module in self.named_modules():\n",
    "            h = hook_fn(name)\n",
    "            if name[:-1] == 'relu' or name == 'layer3':\n",
    "                self.handles.append(getattr(self,name).register_forward_hook(h))\n",
    "    \n",
    "    def remove_hooks(self):\n",
    "        for handle in self.handles:\n",
    "            handle.remove()\n",
    "        self.reset_activations()\n",
    "    \n",
    "    def reset_activations(self):\n",
    "        for name, module in self.named_modules():\n",
    "            if name[:-1] == 'relu' or name == 'layer3':\n",
    "                getattr(self, 'activations_'+name).clear()\n",
    "\n",
    "        \n",
    "class MetaLearning:\n",
    "    def __init__(self):\n",
    "        self.meta_model = SineModel()\n",
    "        self.tuned_model = None\n",
    "        self.meta_parameters = self.meta_model.get_parameter_dict()\n",
    "        self.metric = torch.nn.MSELoss()\n",
    "        self.activation = []\n",
    "    \n",
    "    def get_parameters(self): # depreciated\n",
    "        self.update_meta_parameters()\n",
    "        return self.meta_parameters\n",
    "    \n",
    "    def get_exp_results(self):\n",
    "        return self.exp_results\n",
    "    \n",
    "    def update_meta_parameters(self):\n",
    "        self.meta_parameters = self.meta_model.get_parameter_dict()\n",
    "            \n",
    "    def train(self, epochs=100, num_tasks=25, num_grad_steps=1, meta_lr=1e-3, step_lr=0.01, foa=False, config='maml', exp=False):\n",
    "        self.epochs = epochs\n",
    "        self.num_tasks = num_tasks\n",
    "        self.meta_lr = meta_lr\n",
    "        self.step_lr = step_lr\n",
    "        self.foa = foa\n",
    "        self.config = config\n",
    "        self.optimizer = torch.optim.Adam(self.meta_model.parameters(), lr=self.meta_lr)\n",
    "        self.exp_results = []\n",
    "        \n",
    "        if exp:\n",
    "            self.exp_tasks = [SineTask() for m in range(10)]\n",
    "            \n",
    "        hold_exp = []\n",
    "        history = []\n",
    "        self.optimizer.zero_grad()\n",
    "        \n",
    "        for epoch in range(epochs):\n",
    "            \n",
    "            if exp:\n",
    "                if epoch % 10 == 0:\n",
    "                    hold_exp.append(self.exp_weight_distance())\n",
    "                \n",
    "            task_batch_losses = []\n",
    "            tasks = [SineTask() for m in range(self.num_tasks)]\n",
    "            for task in tasks:\n",
    "                \n",
    "                task_model = SineModel()\n",
    "                task_model.copy(self.meta_model)\n",
    "                hold_parameters = self.meta_model.get_parameter_dict()\n",
    "                for step in range(num_grad_steps):\n",
    "                    \n",
    "                    x, y = task.training_data()\n",
    "                    y_hat = task_model.forward(x, hold_parameters)\n",
    "                    loss = self.metric(y_hat, y)\n",
    "                    grads = self.get_gradients(loss, hold_parameters)\n",
    "                    for ((name, parameter), grad) in zip(hold_parameters.items(),grads):\n",
    "                        hold_parameters[name] = parameter - self.step_lr * grad\n",
    "                    \n",
    "                x, y = task.training_data(fresh=True)\n",
    "                y_hat = self.meta_model.forward(x, hold_parameters)\n",
    "                meta_loss = self.metric(y_hat, y)\n",
    "                meta_loss.backward(retain_graph=True)\n",
    "                self.optimizer.step()\n",
    "                self.optimizer.zero_grad()\n",
    "                task_batch_losses.append(meta_loss.item())\n",
    "                self.meta_model.update_parameter_dict()\n",
    "                \n",
    "            history.append(np.mean(task_batch_losses))\n",
    "        \n",
    "        # make result neat\n",
    "        if exp:\n",
    "            # make plot function\n",
    "            res1 = []\n",
    "            res2 = []\n",
    "            res3 = []\n",
    "            for exp in hold_exp:\n",
    "                res1.append(exp['layer1'])\n",
    "                res2.append(exp['layer2'])\n",
    "                res3.append(exp['layer3'])\n",
    "            self.exp_results = [np.array(res1),np.array(res2),np.array(res3)]\n",
    "        \n",
    "        return history\n",
    "    \n",
    "    def get_gradients(self, loss, parameters=None, fine_tune=False):\n",
    "        # maml\n",
    "        if self.config == 'maml':\n",
    "            if fine_tune:\n",
    "                grads = torch.autograd.grad(loss, self.tuned_model.parameters())\n",
    "            else:\n",
    "                grads = torch.autograd.grad(loss, parameters.values(), retain_graph=not self.foa)\n",
    "            return grads\n",
    "        # anil      \n",
    "        elif self.config == 'anil':\n",
    "            grads = []\n",
    "            if fine_tune:\n",
    "                for name, parameter in self.tuned_model.named_parameters():\n",
    "                    if 'layer3' in name:\n",
    "                        grads.append(torch.autograd.grad(loss, parameter, retain_graph=True)[0])\n",
    "                    else:\n",
    "                        grads.append(torch.zeros_like(parameter))\n",
    "            else:\n",
    "                for name, parameter in parameters.items():\n",
    "                    if 'layer3' in name:\n",
    "                        grads.append(torch.autograd.grad(loss, parameter, create_graph=not self.foa)[0])\n",
    "                    else:\n",
    "                        grads.append(torch.autograd.grad(loss, parameter, retain_graph=True)[0])\n",
    "            return tuple(grads)\n",
    "        \n",
    "    def get_custom_gradients(self, loss, parameters=None, frozen_layers=None):\n",
    "        grads = []\n",
    "        for name, parameter in self.tuned_model.get_parameter_dict().items(): #self.tuned_model.named_parameters():\n",
    "            if name.split('.')[0] in frozen_layers:\n",
    "                grads.append(torch.zeros_like(parameter))\n",
    "            else:\n",
    "                grads.append(torch.autograd.grad(loss, parameter, create_graph=not self.foa)[0])\n",
    "        return tuple(grads)\n",
    "                \n",
    "            \n",
    "    def fine_tune(self, task, num_examples=5, gradient_steps=10, frozen_layers=None):\n",
    "        self.tuned_model = SineModel()\n",
    "        self.tuned_model.copy(self.meta_model)\n",
    "        tune_history = []\n",
    "        \n",
    "        for step in range(gradient_steps):\n",
    "            x, y = task.training_data()\n",
    "            y_hat = self.tuned_model.forward(x)\n",
    "            loss = self.metric(y_hat, y)\n",
    "            if frozen_layers is None:\n",
    "                grads = self.get_gradients(loss, fine_tune=True)\n",
    "            else:\n",
    "                grads = self.get_custom_gradients(loss, frozen_layers=frozen_layers)\n",
    "            with torch.no_grad():\n",
    "                for parameter, grad in zip(self.tuned_model.parameters(), grads):\n",
    "                    parameter -= self.step_lr * grad\n",
    "            tune_history.append(loss.item())\n",
    "        return tune_history\n",
    "        \n",
    "    def freezing_layer_test():\n",
    "        pass\n",
    "    \n",
    "    \n",
    "    def exp_weight_distance(self):\n",
    "        hold_values = {'layer1': [],\n",
    "                       'layer2': [],\n",
    "                       'layer3': []}\n",
    "        result = {}\n",
    "        for task in self.exp_tasks:\n",
    "            self.fine_tune(task, gradient_steps=10)\n",
    "            for ((name, par1), par2) in zip(self.tuned_model.named_parameters(), self.meta_model.parameters()):\n",
    "                \n",
    "                if name.split('.')[1] == 'weight':\n",
    "                    hold_values[name.split('.')[0]].append(torch.cdist(par1,par2).detach().numpy())\n",
    "        \n",
    "        #print(hold_values)\n",
    "        for name, value in hold_values.items():\n",
    "            result[name] = [np.mean(hold_values[name]),np.std(hold_values[name])]\n",
    "        \n",
    "        return result\n",
    "\n",
    "    \n",
    "    def exp_similarity_CCA(self, num_tasks=10, shots=10):\n",
    "        \n",
    "        tasks = [SineTask() for m in range(num_tasks)]\n",
    "        hold_values = {'relu1': [],\n",
    "                       'relu2': [],\n",
    "                       'layer3':[]}\n",
    "        for task in tasks:\n",
    "            self.fine_tune(task, num_examples=shots, gradient_steps = 10)\n",
    "            self.meta_model.set_hooks()\n",
    "            self.tuned_model.set_hooks()\n",
    "            \n",
    "            x, _ = task.training_data(n=400, fresh=True)\n",
    "            \n",
    "            for x_i in x:\n",
    "                self.meta_model(x_i)\n",
    "                self.tuned_model(x_i)\n",
    "                \n",
    "            for name, modeule in self.meta_model.named_modules():\n",
    "                if name[:-1] == 'relu' or name == 'layer3':\n",
    "                    meta_act = torch.stack(self.meta_model.get_activations(name))\n",
    "                    tuned_act = torch.stack(self.tuned_model.get_activations(name))\n",
    "                    _, _, diag = svcca(meta_act, tuned_act)\n",
    "                    hold_values[name].append(np.mean(diag.numpy()))\n",
    "            self.meta_model.remove_hooks()\n",
    "            self.tuned_model.remove_hooks()\n",
    "            \n",
    "        print(\"Over % 2d tasks\" % num_tasks)\n",
    "        for name, value in hold_values.items():\n",
    "            print(\"mean cca of {0}: {1:1.4f} std cca of {2}: {3:1.4f}\".format(name,np.mean(value),name,np.std(value)))\n",
    "     \n",
    "    \n",
    "   "
   ]
  },
  {
   "cell_type": "code",
   "execution_count": 225,
   "metadata": {},
   "outputs": [
    {
     "name": "stdout",
     "output_type": "stream",
     "text": [
      "23.15418267250061\n"
     ]
    }
   ],
   "source": [
    "import time\n",
    "\n",
    "epochs=800\n",
    "num_tasks=25\n",
    "num_grad_steps=1\n",
    "meta_lr=1e-3\n",
    "step_lr=0.01\n",
    "foa = False\n",
    "config = 'maml'\n",
    "exp = True\n",
    "\n",
    "tst = MAML()\n",
    "\n",
    "start = time.time()\n",
    "hist_meta =tst.train(epochs, num_tasks, num_grad_steps, meta_lr, step_lr, foa, config, exp)\n",
    "end = time.time()\n",
    "print(end - start)\n",
    "\n",
    "#task = SineTask()\n",
    "#hist_tuned = tst.fine_tune(task)\n",
    "#tst.meta_model = SineModel()\n",
    "#tst.tuned_model = SineModel()\n",
    "\n"
   ]
  },
  {
   "cell_type": "code",
   "execution_count": 224,
   "metadata": {},
   "outputs": [
    {
     "data": {
      "text/plain": [
       "array([[0.7918275 , 0.14464054],\n",
       "       [0.80967605, 0.14938773],\n",
       "       [0.81857073, 0.1522457 ],\n",
       "       [0.82973856, 0.15660688],\n",
       "       [0.8408081 , 0.16174957],\n",
       "       [0.85911393, 0.17167251],\n",
       "       [0.87739503, 0.18450785],\n",
       "       [0.89398545, 0.19813924],\n",
       "       [0.9070221 , 0.20832464],\n",
       "       [0.9322947 , 0.22832915],\n",
       "       [0.95315266, 0.24765098],\n",
       "       [0.9716045 , 0.26468158],\n",
       "       [0.9919823 , 0.28505173],\n",
       "       [1.0155514 , 0.3081302 ],\n",
       "       [1.0444933 , 0.33389965],\n",
       "       [1.07579   , 0.3661005 ],\n",
       "       [1.1023924 , 0.3917643 ],\n",
       "       [1.1335934 , 0.41771403],\n",
       "       [1.1706394 , 0.4530024 ],\n",
       "       [1.2083443 , 0.4924526 ],\n",
       "       [1.2424968 , 0.51789784],\n",
       "       [1.281462  , 0.55638194],\n",
       "       [1.3228526 , 0.5951663 ],\n",
       "       [1.356571  , 0.63443935],\n",
       "       [1.4005013 , 0.68353605],\n",
       "       [1.43925   , 0.7333797 ],\n",
       "       [1.4846143 , 0.790107  ],\n",
       "       [1.5351844 , 0.8406775 ],\n",
       "       [1.572209  , 0.8878728 ],\n",
       "       [1.6167601 , 0.9399789 ]], dtype=float32)"
      ]
     },
     "execution_count": 224,
     "metadata": {},
     "output_type": "execute_result"
    }
   ],
   "source": [
    "a1, a2, a3 = tst.exp_results\n",
    "a2"
   ]
  },
  {
   "cell_type": "code",
   "execution_count": 197,
   "metadata": {},
   "outputs": [
    {
     "name": "stdout",
     "output_type": "stream",
     "text": [
      "{'layer1': [array([[0.0000000e+00, 1.7110252e-01, 1.1487588e-02, ..., 1.9846790e+00,\n",
      "        1.3524595e+00, 1.8962790e+00],\n",
      "       [1.7131019e-01, 2.4414062e-04, 1.5969111e-01, ..., 1.8135033e+00,\n",
      "        1.1812838e+00, 1.7251034e+00],\n",
      "       [1.1960399e-02, 1.5927646e-01, 0.0000000e+00, ..., 1.9728532e+00,\n",
      "        1.3406337e+00, 1.8844533e+00],\n",
      "       ...,\n",
      "       [1.9847580e+00, 1.8135208e+00, 1.9731386e+00, ..., 2.4414062e-04,\n",
      "        6.3216376e-01, 8.8344164e-02],\n",
      "       [1.3529217e+00, 1.1816847e+00, 1.3413023e+00, ..., 6.3189191e-01,\n",
      "        3.3430333e-04, 5.4349196e-01],\n",
      "       [1.8987775e+00, 1.7275404e+00, 1.8871580e+00, ..., 8.6036623e-02,\n",
      "        5.4618323e-01, 2.3670313e-03]], dtype=float32)], 'layer2': [array([[0.0000000e+00, 9.3392015e-01, 8.3665359e-01, ..., 8.4794998e-01,\n",
      "        9.0014833e-01, 8.7460899e-01],\n",
      "       [9.3392015e-01, 2.7295752e-04, 8.8525367e-01, ..., 8.5208249e-01,\n",
      "        9.9043739e-01, 7.7271730e-01],\n",
      "       [8.3665359e-01, 8.8525367e-01, 0.0000000e+00, ..., 9.7867775e-01,\n",
      "        8.8352323e-01, 7.5320899e-01],\n",
      "       ...,\n",
      "       [8.4794998e-01, 8.5208249e-01, 9.7867775e-01, ..., 2.7295752e-04,\n",
      "        7.5904506e-01, 7.6179349e-01],\n",
      "       [9.0014833e-01, 9.9043739e-01, 8.8352323e-01, ..., 7.5904512e-01,\n",
      "        0.0000000e+00, 7.2959095e-01],\n",
      "       [8.7460899e-01, 7.7271730e-01, 7.5320905e-01, ..., 7.6179349e-01,\n",
      "        7.2959089e-01, 0.0000000e+00]], dtype=float32)], 'layer3': [array([[0.05618285]], dtype=float32)]}\n"
     ]
    },
    {
     "data": {
      "text/plain": [
       "{'layer1': [0.8494684, 0.6194956],\n",
       " 'layer2': [2.185856, 1.5487515],\n",
       " 'layer3': [0.05618285, 0.0]}"
      ]
     },
     "execution_count": 197,
     "metadata": {},
     "output_type": "execute_result"
    }
   ],
   "source": [
    "test_m = MAML()\n",
    "test_m.train(800)\n",
    "test_m.exp_tasks = [SineTask() for m in range(1)]\n",
    "test_m.exp_weight_distance()"
   ]
  },
  {
   "cell_type": "code",
   "execution_count": 127,
   "metadata": {},
   "outputs": [
    {
     "name": "stdout",
     "output_type": "stream",
     "text": [
      "Over  10 tasks\n",
      "mean cca of relu1: 1.0000 std cca of relu1: 0.0000\n",
      "mean cca of relu2: 1.0000 std cca of relu2: 0.0000\n",
      "mean cca of layer3: 0.5357 std cca of layer3: 0.3376\n"
     ]
    }
   ],
   "source": [
    "tst.exp_similarity_CCA(num_tasks=10, shots=5)"
   ]
  },
  {
   "cell_type": "code",
   "execution_count": 44,
   "metadata": {},
   "outputs": [
    {
     "name": "stdout",
     "output_type": "stream",
     "text": [
      "layer1.weight\n",
      "tensor([[-1.0501],\n",
      "        [ 0.9528],\n",
      "        [ 1.1293],\n",
      "        [-0.7479],\n",
      "        [-0.4293]], grad_fn=<SliceBackward>)\n",
      "%%%%\n",
      "tensor([[-1.0501],\n",
      "        [ 0.9282],\n",
      "        [ 1.0738],\n",
      "        [-0.7283],\n",
      "        [-0.4900]], grad_fn=<SliceBackward>)\n",
      "layer1.bias\n",
      "tensor([-3.9694, -0.8496, -2.3420,  0.2362,  1.4810], grad_fn=<SliceBackward>)\n",
      "%%%%\n",
      "tensor([-3.9694, -0.8664, -2.3732,  0.2250,  1.4810], grad_fn=<SliceBackward>)\n",
      "layer2.weight\n",
      "tensor([[ 2.0939e-02,  3.6316e-02, -8.2133e-02,  1.8672e-02, -3.7228e-03,\n",
      "         -3.8169e-02,  1.2538e-01, -1.9163e-02, -4.7080e-02,  3.5004e-03,\n",
      "          9.9766e-02, -1.2179e-01,  1.0101e-01, -7.6037e-02,  1.5119e-01,\n",
      "         -3.5790e-02, -7.8296e-03, -1.2968e-01, -2.2738e-02, -1.0661e-01,\n",
      "         -1.5090e-01,  1.4161e-01, -1.2062e-01, -5.2631e-02, -1.4661e-01,\n",
      "         -5.7123e-02,  1.5666e-01,  4.5315e-02, -1.3469e-01, -1.2833e-01,\n",
      "         -4.6770e-02,  6.5010e-02,  6.2364e-02,  1.0040e-01, -1.4817e-01,\n",
      "          1.1422e-01, -1.5231e-01, -2.1088e-02, -3.8727e-02,  1.4285e-01],\n",
      "        [-1.1318e-01, -4.3309e+00,  9.1108e-02, -8.0332e-02,  2.0559e-01,\n",
      "          1.4485e-01, -3.8712e-02, -2.8746e+00, -1.0101e-01, -3.7406e+00,\n",
      "         -2.1534e+00, -6.3296e-01,  1.0103e-01, -2.4808e-01, -2.5160e-02,\n",
      "          1.1914e+00, -1.5712e+00,  2.4643e-01,  2.2093e-01, -2.1056e-01,\n",
      "         -8.6087e-01, -3.5202e+00, -6.2294e-01, -1.7545e-02, -8.4414e-01,\n",
      "          5.2319e-02, -7.4858e-01, -1.2940e-01,  2.5363e-03,  1.3602e-03,\n",
      "          1.0093e+00, -9.9658e-02,  1.4109e-01,  9.5548e-02,  6.4105e-02,\n",
      "         -5.6472e-01, -6.7430e-02,  3.1069e-01, -8.8063e-01, -1.6871e+00],\n",
      "        [ 5.2333e-02, -1.2945e-01,  1.4183e-01, -4.3456e-02, -1.2496e-01,\n",
      "          4.6714e-02,  4.7977e-02,  8.8564e-02, -2.5257e-02, -1.2095e-01,\n",
      "          6.9369e-02,  5.5860e-02,  9.9506e-02,  4.9581e-02,  1.2381e-01,\n",
      "          4.5853e-03, -6.7327e-02, -2.0154e-01, -1.8299e-01,  8.8793e-02,\n",
      "         -6.7667e-03,  2.0584e-02, -6.4004e-02, -3.9351e-01,  7.2776e-02,\n",
      "         -5.6809e-01, -1.6299e-02,  1.0276e-01, -1.1557e-01, -8.5687e-02,\n",
      "         -2.0858e-01, -1.1286e-01,  1.1155e-01, -1.1243e-01, -2.6535e-01,\n",
      "         -2.2422e-04, -5.0691e-02,  5.2953e-02, -1.7252e-01, -7.8986e-02],\n",
      "        [-1.5810e-01,  1.3276e-02, -1.0844e-01,  1.0007e-01, -1.2354e-01,\n",
      "         -1.9949e-01,  9.9148e-02,  1.8548e-01,  4.5069e-02, -1.3844e-01,\n",
      "         -7.2550e-02, -4.9059e-02,  1.0589e-01,  1.5247e-01, -1.0229e-01,\n",
      "         -1.5155e-01,  7.1058e-02,  1.0654e-02, -3.8972e-01, -1.0045e-01,\n",
      "          8.5071e-02,  1.3491e-01, -1.4763e-01, -1.1961e+00,  2.0880e-02,\n",
      "         -1.1473e+00, -4.0427e-03, -1.1875e-01, -4.4870e-02, -7.5643e-02,\n",
      "          9.6559e-03, -1.5913e-01, -1.5626e-01, -2.4826e-02, -2.2760e-01,\n",
      "         -1.2277e-02, -5.6078e-02,  1.1101e-01,  1.6133e-01,  9.4644e-02],\n",
      "        [-7.4971e-01,  2.6118e-01,  5.2548e-02, -4.3258e-01,  3.9331e-01,\n",
      "         -2.1037e-01, -3.4696e-01,  1.2720e-01,  8.5019e-03, -6.1807e-01,\n",
      "          4.2908e-01,  2.3073e-02, -1.3116e-01, -6.5152e-01, -3.5504e-01,\n",
      "         -9.2711e-01, -3.5198e-01, -8.2282e-02,  4.1828e-01, -7.8605e-01,\n",
      "         -2.4466e-01, -3.8259e-01, -5.9604e-03,  1.0098e-01,  8.7191e-02,\n",
      "          1.5333e-01, -2.9413e-02, -6.8507e-01, -4.1683e-01, -1.1425e+00,\n",
      "         -9.7448e-01, -1.7699e+00, -7.5387e-01, -1.1685e+00,  1.1461e-02,\n",
      "         -5.3792e-02, -8.6067e-02, -3.8178e-01,  4.5000e-01, -3.5826e-01]],\n",
      "       grad_fn=<SliceBackward>)\n",
      "%%%%\n",
      "tensor([[ 2.0939e-02,  3.6316e-02, -8.2133e-02,  1.8672e-02, -3.7228e-03,\n",
      "         -3.8169e-02,  1.2538e-01, -1.9163e-02, -4.7080e-02,  3.5004e-03,\n",
      "          9.9766e-02, -1.2179e-01,  1.0101e-01, -7.6037e-02,  1.5119e-01,\n",
      "         -3.5790e-02, -7.8296e-03, -1.2968e-01, -2.2738e-02, -1.0661e-01,\n",
      "         -1.5090e-01,  1.4161e-01, -1.2062e-01, -5.2631e-02, -1.4661e-01,\n",
      "         -5.7123e-02,  1.5666e-01,  4.5315e-02, -1.3469e-01, -1.2833e-01,\n",
      "         -4.6770e-02,  6.5010e-02,  6.2364e-02,  1.0040e-01, -1.4817e-01,\n",
      "          1.1422e-01, -1.5231e-01, -2.1088e-02, -3.8727e-02,  1.4285e-01],\n",
      "        [-1.1318e-01, -4.3309e+00,  9.1108e-02, -8.0332e-02,  1.9300e-01,\n",
      "          1.3514e-01, -3.8712e-02, -2.8746e+00, -1.0101e-01, -3.7406e+00,\n",
      "         -2.1534e+00, -6.3296e-01,  1.0103e-01, -2.4808e-01, -2.5160e-02,\n",
      "          1.1889e+00, -1.5712e+00,  2.2865e-01,  2.0553e-01, -2.1056e-01,\n",
      "         -8.6087e-01, -3.5202e+00, -6.2294e-01, -3.3465e-02, -8.5265e-01,\n",
      "          4.0370e-02, -7.4858e-01, -1.2947e-01,  2.5363e-03,  1.3602e-03,\n",
      "          1.0073e+00, -9.9658e-02,  1.4109e-01,  9.1638e-02,  1.4428e-02,\n",
      "         -5.6472e-01, -6.7430e-02,  3.1069e-01, -8.8344e-01, -1.6871e+00],\n",
      "        [ 5.2333e-02, -1.2945e-01,  1.4183e-01, -4.3456e-02, -1.2496e-01,\n",
      "          4.6714e-02,  4.7977e-02,  8.8564e-02, -2.5257e-02, -1.2095e-01,\n",
      "          6.9369e-02,  5.5860e-02,  9.9506e-02,  4.9581e-02,  1.2381e-01,\n",
      "          4.5853e-03, -6.7327e-02, -2.0154e-01, -1.8299e-01,  8.8793e-02,\n",
      "         -6.7667e-03,  2.0584e-02, -6.4004e-02, -3.9351e-01,  7.2776e-02,\n",
      "         -5.6809e-01, -1.6299e-02,  1.0276e-01, -1.1557e-01, -8.5687e-02,\n",
      "         -2.0858e-01, -1.1286e-01,  1.1155e-01, -1.1243e-01, -2.6535e-01,\n",
      "         -2.2422e-04, -5.0691e-02,  5.2953e-02, -1.7252e-01, -7.8986e-02],\n",
      "        [-1.5810e-01,  1.3276e-02, -1.0844e-01,  1.0007e-01, -1.2354e-01,\n",
      "         -1.9949e-01,  9.9148e-02,  1.8548e-01,  4.5069e-02, -1.3844e-01,\n",
      "         -7.2550e-02, -4.9059e-02,  1.0589e-01,  1.5247e-01, -1.0229e-01,\n",
      "         -1.5155e-01,  7.1058e-02,  1.0654e-02, -3.8972e-01, -1.0045e-01,\n",
      "          8.5071e-02,  1.3491e-01, -1.4763e-01, -1.1961e+00,  2.0880e-02,\n",
      "         -1.1473e+00, -4.0427e-03, -1.1875e-01, -4.4870e-02, -7.5643e-02,\n",
      "          9.6559e-03, -1.5913e-01, -1.5626e-01, -2.4826e-02, -2.2760e-01,\n",
      "         -1.2277e-02, -5.6078e-02,  1.1101e-01,  1.6133e-01,  9.4644e-02],\n",
      "        [-7.4971e-01,  2.4283e-01,  4.7395e-02, -4.3258e-01,  3.7424e-01,\n",
      "         -2.4456e-01, -3.4696e-01,  1.1160e-01,  8.5019e-03, -6.1807e-01,\n",
      "          4.0914e-01,  2.3073e-02, -1.3116e-01, -6.5152e-01, -3.5504e-01,\n",
      "         -9.4376e-01, -3.5198e-01, -9.9242e-02,  3.9459e-01, -7.8605e-01,\n",
      "         -2.4466e-01, -3.8259e-01, -5.9604e-03,  7.6386e-02,  4.6194e-02,\n",
      "          1.4151e-01, -3.9022e-02, -6.8507e-01, -4.1683e-01, -1.1425e+00,\n",
      "         -9.8931e-01, -1.7699e+00, -7.5387e-01, -1.1712e+00, -1.0191e-01,\n",
      "         -5.3792e-02, -8.6067e-02, -3.9651e-01,  4.2110e-01, -3.5826e-01]],\n",
      "       grad_fn=<SliceBackward>)\n",
      "layer2.bias\n",
      "tensor([-0.0833, -0.2021, -0.3024, -0.1931,  0.0477], grad_fn=<SliceBackward>)\n",
      "%%%%\n",
      "tensor([-0.0833, -0.2123, -0.3024, -0.1931,  0.0234], grad_fn=<SliceBackward>)\n",
      "layer3.weight\n",
      "tensor([[-1.6982e-01,  1.4827e+00, -1.0028e-02, -4.6582e-03, -1.2029e+00,\n",
      "          1.7649e-02, -6.3873e-02, -2.1453e-03, -5.3472e-02, -4.9274e-02,\n",
      "          7.9761e-03, -1.8670e-02,  3.5673e-02,  7.1206e-01,  1.4095e-02,\n",
      "         -5.6379e-03,  2.1600e-01,  3.4264e-02, -1.2125e-01,  7.3241e-02,\n",
      "         -9.7137e-02, -6.2781e-04,  2.3567e-01, -2.0918e-01,  2.3816e-02,\n",
      "          8.4021e-03,  2.3681e-01, -2.1012e-01,  2.7433e-02, -9.1331e-02,\n",
      "          5.4799e-02, -9.6949e-02, -6.9079e-02, -1.0244e-01,  9.9829e-02,\n",
      "         -2.2679e-01, -2.2699e-01, -5.2481e-02, -1.5083e-01,  1.9714e-02]],\n",
      "       grad_fn=<SliceBackward>)\n",
      "%%%%\n",
      "tensor([[-1.6982e-01,  1.4773e+00, -1.0028e-02, -4.6582e-03, -1.1955e+00,\n",
      "          1.7649e-02, -6.3873e-02, -2.1453e-03, -5.3472e-02, -4.9274e-02,\n",
      "          7.9761e-03, -1.8670e-02,  3.5673e-02,  6.0862e-01,  1.4095e-02,\n",
      "         -5.6379e-03,  2.9077e-01,  3.4264e-02, -1.2125e-01,  7.3241e-02,\n",
      "         -9.7137e-02, -6.2781e-04,  2.3567e-01, -2.0918e-01,  2.3816e-02,\n",
      "          8.4021e-03,  6.3538e-01, -2.1012e-01,  2.7433e-02, -9.1331e-02,\n",
      "          5.4799e-02, -9.6949e-02, -6.9079e-02, -1.0244e-01,  9.9829e-02,\n",
      "         -2.2679e-01, -2.2699e-01, -5.2481e-02, -1.5083e-01,  1.9714e-02]],\n",
      "       grad_fn=<SliceBackward>)\n",
      "layer3.bias\n",
      "tensor([-3.1940], grad_fn=<SliceBackward>)\n",
      "%%%%\n",
      "tensor([-3.1862], grad_fn=<SliceBackward>)\n"
     ]
    },
    {
     "data": {
      "text/plain": [
       "tensor(0.5502)"
      ]
     },
     "execution_count": 44,
     "metadata": {},
     "output_type": "execute_result"
    }
   ],
   "source": [
    "num_samples = 10\n",
    "data_a, data_b = tst.CCA_test(num_samples)\n",
    "\n",
    "# since this should be relu activation. it should not contain negatives\n",
    "#data_a\n",
    "\n",
    "data_ta = torch.stack(data_a)\n",
    "data_tb = torch.stack(data_b)\n",
    "a, b, diag = svcca(data_ta, data_tb)\n",
    "\n",
    "#print(data_ta[:,1])\n",
    "#print(data_tb[:,1])\n",
    "\n",
    "for ((name, par1), par2) in zip(tst.meta_model.named_parameters(),tst.tuned_model.parameters()):\n",
    "    print(name)\n",
    "    print(par1[:5])\n",
    "    print('%%%%')\n",
    "    print(par2[:5])\n",
    "\n",
    "\n",
    "\n",
    "torch.mean(diag)"
   ]
  },
  {
   "cell_type": "code",
   "execution_count": 138,
   "metadata": {},
   "outputs": [
    {
     "ename": "KeyError",
     "evalue": "'layer1.bias'",
     "output_type": "error",
     "traceback": [
      "\u001b[0;31m---------------------------------------------------------------------------\u001b[0m",
      "\u001b[0;31mKeyError\u001b[0m                                  Traceback (most recent call last)",
      "\u001b[0;32m<ipython-input-138-9ea4406151f1>\u001b[0m in \u001b[0;36m<module>\u001b[0;34m\u001b[0m\n\u001b[1;32m      3\u001b[0m \u001b[0;32mfor\u001b[0m \u001b[0mname\u001b[0m\u001b[0;34m,\u001b[0m \u001b[0mparameter\u001b[0m \u001b[0;32min\u001b[0m \u001b[0mm\u001b[0m\u001b[0;34m.\u001b[0m\u001b[0mnamed_parameters\u001b[0m\u001b[0;34m(\u001b[0m\u001b[0;34m)\u001b[0m\u001b[0;34m:\u001b[0m\u001b[0;34m\u001b[0m\u001b[0;34m\u001b[0m\u001b[0m\n\u001b[1;32m      4\u001b[0m     \u001b[0;31m#print(name.split('.')[1])\u001b[0m\u001b[0;34m\u001b[0m\u001b[0;34m\u001b[0m\u001b[0;34m\u001b[0m\u001b[0m\n\u001b[0;32m----> 5\u001b[0;31m     \u001b[0mdic\u001b[0m\u001b[0;34m[\u001b[0m\u001b[0mname\u001b[0m\u001b[0;34m]\u001b[0m\u001b[0;34m.\u001b[0m\u001b[0mappend\u001b[0m\u001b[0;34m(\u001b[0m\u001b[0;36m4\u001b[0m\u001b[0;34m)\u001b[0m\u001b[0;34m\u001b[0m\u001b[0;34m\u001b[0m\u001b[0m\n\u001b[0m\u001b[1;32m      6\u001b[0m \u001b[0;34m\u001b[0m\u001b[0m\n",
      "\u001b[0;31mKeyError\u001b[0m: 'layer1.bias'"
     ]
    }
   ],
   "source": [
    "dic = {'layer1.weight': []}\n",
    "m = SineModel()\n",
    "for name, parameter in m.named_parameters():\n",
    "    #print(name.split('.')[1])\n",
    "    dic[name].append(4)\n",
    "    \n"
   ]
  },
  {
   "cell_type": "code",
   "execution_count": 85,
   "metadata": {},
   "outputs": [
    {
     "data": {
      "text/plain": [
       "[<matplotlib.lines.Line2D at 0x7fb619585c50>]"
      ]
     },
     "execution_count": 85,
     "metadata": {},
     "output_type": "execute_result"
    },
    {
     "data": {
      "image/png": "[encoded data removed]",
      "text/plain": [
       "<Figure size 432x288 with 1 Axes>"
      ]
     },
     "metadata": {
      "needs_background": "light"
     },
     "output_type": "display_data"
    }
   ],
   "source": [
    "tst2 = MAML()\n",
    "tst2.train(1, num_tasks, num_grad_steps, meta_lr, step_lr)\n",
    "\n",
    "tasks = [SineTask() for t in range(20)]\n",
    "\n",
    "trained = []\n",
    "untrained = []\n",
    "\n",
    "for task in tasks:\n",
    "    # should get same data\n",
    "    ell1 = tst.fine_tune(task) \n",
    "    trained.append(ell1)\n",
    "    ell2 = tst2.fine_tune(task)\n",
    "    untrained.append(ell2)\n",
    "\n",
    "trained_agg = np.mean(trained, axis=0)\n",
    "untrained_agg = np.mean(untrained, axis=0)\n",
    "\n",
    "plt.plot(trained_agg)\n",
    "plt.plot(untrained_agg)"
   ]
  },
  {
   "cell_type": "code",
   "execution_count": 55,
   "metadata": {},
   "outputs": [
    {
     "data": {
      "text/plain": [
       "tensor([0.5502])"
      ]
     },
     "execution_count": 55,
     "metadata": {},
     "output_type": "execute_result"
    }
   ],
   "source": [
    "diag"
   ]
  },
  {
   "cell_type": "code",
   "execution_count": 48,
   "metadata": {},
   "outputs": [],
   "source": [
    "name = 'relasdfsadf1'"
   ]
  },
  {
   "cell_type": "code",
   "execution_count": 49,
   "metadata": {},
   "outputs": [
    {
     "data": {
      "text/plain": [
       "'relasdfsadf'"
      ]
     },
     "execution_count": 49,
     "metadata": {},
     "output_type": "execute_result"
    }
   ],
   "source": [
    "name[:-1]"
   ]
  },
  {
   "cell_type": "code",
   "execution_count": 190,
   "metadata": {},
   "outputs": [
    {
     "name": "stdout",
     "output_type": "stream",
     "text": [
      "tensor([[8.1240]])\n"
     ]
    },
    {
     "data": {
      "text/plain": [
       "8.124039"
      ]
     },
     "execution_count": 190,
     "metadata": {},
     "output_type": "execute_result"
    }
   ],
   "source": [
    "a = torch.Tensor([[2,3,6,4,8]])\n",
    "b = torch.Tensor([[1,9,8,9,8]])\n",
    "c = torch.cdist(a,b)\n",
    "\n",
    "dist = np.linalg.norm(a.numpy()-b.numpy())\n",
    "print(c)\n",
    "dist"
   ]
  },
  {
   "cell_type": "code",
   "execution_count": 165,
   "metadata": {},
   "outputs": [
    {
     "data": {
      "text/plain": [
       "66"
      ]
     },
     "execution_count": 165,
     "metadata": {},
     "output_type": "execute_result"
    }
   ],
   "source": [
    "1+36+4+25+0\n"
   ]
  },
  {
   "cell_type": "code",
   "execution_count": 191,
   "metadata": {},
   "outputs": [
    {
     "data": {
      "text/plain": [
       "8.12403840463596"
      ]
     },
     "execution_count": 191,
     "metadata": {},
     "output_type": "execute_result"
    }
   ],
   "source": [
    "np.sqrt(66)"
   ]
  },
  {
   "cell_type": "code",
   "execution_count": null,
   "metadata": {},
   "outputs": [],
   "source": []
  }
 ],
 "metadata": {
  "kernelspec": {
   "display_name": "Python 3",
   "language": "python",
   "name": "python3"
  },
  "language_info": {
   "codemirror_mode": {
    "name": "ipython",
    "version": 3
   },
   "file_extension": ".py",
   "mimetype": "text/x-python",
   "name": "python",
   "nbconvert_exporter": "python",
   "pygments_lexer": "ipython3",
   "version": "3.6.9"
  }
 },
 "nbformat": 4,
 "nbformat_minor": 4
}
